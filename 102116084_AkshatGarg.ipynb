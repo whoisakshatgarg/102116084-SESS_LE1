{
  "nbformat": 4,
  "nbformat_minor": 0,
  "metadata": {
    "colab": {
      "provenance": [],
      "include_colab_link": true
    },
    "kernelspec": {
      "name": "python3",
      "display_name": "Python 3"
    },
    "language_info": {
      "name": "python"
    }
  },
  "cells": [
    {
      "cell_type": "markdown",
      "metadata": {
        "id": "view-in-github",
        "colab_type": "text"
      },
      "source": [
        "<a href=\"https://colab.research.google.com/github/whoisakshatgarg/102116084-SESS_LE1/blob/main/102116084_AkshatGarg.ipynb\" target=\"_parent\"><img src=\"https://colab.research.google.com/assets/colab-badge.svg\" alt=\"Open In Colab\"/></a>"
      ]
    },
    {
      "cell_type": "markdown",
      "source": [
        "Name: **Akshat Garg**  \n",
        "Email: `agarg_be21@thapar.edu`  \n",
        "Roll No: **102116084**  \n",
        "Group: **4CS11**  \n",
        "Start Timestamp: YYYYMMDD-HHMM  "
      ],
      "metadata": {
        "id": "JxSGFfaneMt9"
      }
    },
    {
      "cell_type": "markdown",
      "source": [
        "## Question\n",
        "\n",
        "Given the dimensionality d of inputs, a sequence H of channel size for each hidden layer, and number of classes C, define a function to\n",
        "\n",
        "Take as argument a vector of raw inputs x;\n",
        "Define a neural network classifier with d input channels, len(H) hidden layers, each subsequent layer bearing [h1,h2,...] channels finally resulting in C logits corresponding to each class;\n",
        "Activate each intermediate layer with tanh\n",
        " activation; and\n",
        "Return the logits.\n",
        "The function shall be tested for consistency, correctness and efficiency as applicable.\n",
        "\n",
        "Use PyTorch/Tensorflow for implementation. Use of internet resources is dicouraged in the interest of time, though not prohibited."
      ],
      "metadata": {
        "id": "4rz1YOxxf4ON"
      }
    },
    {
      "cell_type": "markdown",
      "source": [
        "## Solution"
      ],
      "metadata": {
        "id": "qx2xTbgSFcWJ"
      }
    },
    {
      "cell_type": "code",
      "execution_count": null,
      "metadata": {
        "id": "gEwtgNH5dtho"
      },
      "outputs": [],
      "source": [
        "import torch\n",
        "\n",
        "def createNnClassifier(d,H,C) :\n",
        "  ## FIXME: Create the model here.  Identity is just a dummy\n",
        "  model = torch.nn.Identity()\n",
        "\n",
        "  return model"
      ]
    },
    {
      "cell_type": "markdown",
      "source": [
        "## Test Case"
      ],
      "metadata": {
        "id": "mTB6wH1AFi9g"
      }
    },
    {
      "cell_type": "code",
      "source": [
        "d,H,C = 4,[3,8],1\n",
        "N = 8  # batch_size\n",
        "x = torch.rand(N,d)\n",
        "\n",
        "model = createNnClassifier(d,H,C)\n",
        "model"
      ],
      "metadata": {
        "id": "sFNxSPp8FZ0a"
      },
      "execution_count": null,
      "outputs": []
    },
    {
      "cell_type": "code",
      "source": [
        "y_hat = torch.argmax(model(x), dim=1)\n",
        "\n",
        "y_hat.size()"
      ],
      "metadata": {
        "id": "3knBrdIMH4lG"
      },
      "execution_count": null,
      "outputs": []
    }
  ]
}